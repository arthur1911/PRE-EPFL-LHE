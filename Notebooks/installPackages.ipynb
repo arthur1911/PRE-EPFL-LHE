{
 "cells": [
  {
   "cell_type": "markdown",
   "id": "989ecb04-43fe-4103-85bc-b40d2fa47f10",
   "metadata": {},
   "source": [
    "# Installation of the different packages in Julia\n",
    "\n",
    "Even though the Python environnement has been installed, we still need to add the packages we use in Julia. The command `jl.seval('.....')` allows to write Julia lines into Python."
   ]
  },
  {
   "cell_type": "code",
   "execution_count": null,
   "id": "f6ed2f4b-1190-466a-b436-817ff8409102",
   "metadata": {},
   "outputs": [],
   "source": [
    "# Import the Juliacall librairy\n",
    "from juliacall import Main as jl"
   ]
  },
  {
   "cell_type": "code",
   "execution_count": null,
   "id": "7987825e-87d1-4875-9511-57c93fbd5255",
   "metadata": {},
   "outputs": [],
   "source": [
    "# Add the different packages\n",
    "jl.seval('Pkg.add(\"Images\")')\n",
    "print('Package Images installed')\n",
    "jl.seval('Pkg.add(\"ImageDistances\")')\n",
    "print('Package ImageDistances installed')\n",
    "jl.seval('Pkg.add(\"ImageMagick\")')\n",
    "print('Package ImageMagick installed')\n",
    "jl.seval('Pkg.add(\"Distances\")')\n",
    "print('Package Distances installed')\n",
    "jl.seval('Pkg.add(\"CUDA\")')\n",
    "print('Package CUDA installed')\n",
    "jl.seval('Pkg.add(\"GeoStats\")')\n",
    "print('Package GeoStats installed')\n",
    "jl.seval('Pkg.add(\"GeoStatsPlots\")')\n",
    "print('Package GeoStatsPlots installed')\n",
    "jl.seval('Pkg.add(\"ImageQuilting\")')\n",
    "print('Package ImageQuilting installed')\n",
    "jl.seval('Pkg.add(\"GeoStatsImages\")')\n",
    "print('Package GeoStatsImages installed')\n",
    "jl.seval('Pkg.add(\"Plots\")')\n",
    "print('Package Plots installed')\n",
    "jl.seval('Pkg.add(\"ImageFiltering\")')\n",
    "print('Package ImageFiltering installed')\n",
    "jl.seval('Pkg.add(\"ImageView\")')\n",
    "print('Package ImageView installed')"
   ]
  }
 ],
 "metadata": {
  "kernelspec": {
   "display_name": "Python 3 (ipykernel)",
   "language": "python",
   "name": "python3"
  },
  "language_info": {
   "codemirror_mode": {
    "name": "ipython",
    "version": 3
   },
   "file_extension": ".py",
   "mimetype": "text/x-python",
   "name": "python",
   "nbconvert_exporter": "python",
   "pygments_lexer": "ipython3",
   "version": "3.9.16"
  }
 },
 "nbformat": 4,
 "nbformat_minor": 5
}
